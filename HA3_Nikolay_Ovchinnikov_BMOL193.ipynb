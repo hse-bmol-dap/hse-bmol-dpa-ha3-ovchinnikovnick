{
 "cells": [
  {
   "cell_type": "markdown",
   "metadata": {},
   "source": [
    "# <center> Home Assignment 3</center>"
   ]
  },
  {
   "cell_type": "markdown",
   "metadata": {},
   "source": [
    "There are 5 tasks to be done. Each of them weighs 2 points. There is also an extra bonus task (it is a little bit harder), you are not required to solve it: you can get 10/10 by solving only the first 5 tasks. However, the bonus task also weighs 2 points and it serves as insurance in case you are not able to solve one of the first 5 tasks. If you solve everything, you will get the same 10/10 and will deserve respect."
   ]
  },
  {
   "cell_type": "markdown",
   "metadata": {},
   "source": [
    "**Task 1. (2 points)** <br>\n",
    "**<center> List compression</center>**"
   ]
  },
  {
   "cell_type": "markdown",
   "metadata": {},
   "source": [
    "You are given a list of integers (in the input: numbers in one line separated by one whitespace). It is required to write a function that “compresses” the given list by moving all non-zero elements to the ```left side``` of the list without changing their order, and all zeros to the ```right side```. The order of non-zero elements cannot be changed, an additional list (memory) ```cannot be used```, the task must be completed in ```one pass``` through the list. The function is supposed to return the resulting list. <br>\n",
    "**Example:** <br>\n",
    "```input:```  ```4 0 5 0 3 0 0 5``` <br>\n",
    "array = [4, 0, 5, 0, 3, 0, 0, 5] <br>\n",
    "```output:``` [4, 5, 3, 5, 0, 0, 0, 0]"
   ]
  },
  {
   "cell_type": "code",
   "execution_count": 3,
   "metadata": {},
   "outputs": [
    {
     "name": "stdout",
     "output_type": "stream",
     "text": [
      "4 0 5 0 3 0 0 5\n",
      "[4, 5, 3, 5, 0, 0, 0, 0]\n"
     ]
    }
   ],
   "source": [
    "array = [int(x) for x in input().split()]\n",
    "\n",
    "def compress_list(array):\n",
    "    k=0\n",
    "    for x in array[:]:\n",
    "        if x == 0:\n",
    "            array.remove(0)\n",
    "            k+=1\n",
    "    array.extend([0]*k)\n",
    "    return array\n",
    "\n",
    "print(compress_list(array))"
   ]
  },
  {
   "cell_type": "markdown",
   "metadata": {},
   "source": [
    "**Task 2. (2 points)** <br>\n",
    "**<center> The 2020 United States presidential election</center>**"
   ]
  },
  {
   "cell_type": "markdown",
   "metadata": {},
   "source": [
    "As you know, in the United States the president is not elected by a direct vote, but by a two-level vote. First, elections are held in each state and the winner of the elections in that state is determined. Then the state elections are held: in these elections, each state has a certain number of votes - the number of electors from that state. In practice, all state electors vote according to the results of intra-state voting, that is, states with a different number of votes vote in the final stage of elections. You know who each state voted for and how many votes were cast by that state. Sum up the results of the elections: for each of the voting participants, determine the number of votes cast for him. <br>\n",
    "**Input format:** <br> \n",
    "Each line of the input consists of ```the surname of the candidate```, for which the electors of that state are voting, followed by ```the number of electors``` who voted for this candidate, separated by a space. The input lines are supposed to be read in a cycle. The input itself ends when the following line contains ```-1```. In the end, you should obtain a list ```input_lines``` with strings, where one string equals to one input line (e.g. 'McCain 10'). <br>\n",
    "**Output format:** <br>\n",
    "Print the surnames of all candidates in a lexicographic order and the number of votes cast for them, separated by a space. <br>\n",
    "**Example:** <br>\n",
    "```input:``` <br> \n",
    "```McCain 10\n",
    "McCain 5\n",
    "Obama 9\n",
    "Obama 8\n",
    "McCain 1\n",
    "-1``` <br>\n",
    "\n",
    "input_lines = ['McCain 10', 'McCain 5', 'Obama 9', 'Obama 8', 'McCain 1'] <br>\n",
    "\n",
    "```output:``` <br>\n",
    "McCain 16 <br>\n",
    "Obama 17 <br>"
   ]
  },
  {
   "cell_type": "code",
   "execution_count": 10,
   "metadata": {},
   "outputs": [
    {
     "name": "stdout",
     "output_type": "stream",
     "text": [
      "McCain 10\n",
      "McCain 5\n",
      "Obama 9\n",
      "Obama 8\n",
      "McCain 1\n",
      "-1\n",
      "McCain 16\n",
      "Obama 17\n"
     ]
    }
   ],
   "source": [
    "# Input\n",
    "input_lines = []\n",
    "while True:\n",
    "    x = input()\n",
    "    if x == '-1':\n",
    "        break\n",
    "    input_lines.append(x)\n",
    "        \n",
    "def count_votes(input_lines):\n",
    "    dic = {}\n",
    "    for key, value in [x.split() for x in input_lines]:\n",
    "        dic[key] = dic.get(key, 0) + int(value)\n",
    "    return_lines = []\n",
    "    for key, value in dic.items():\n",
    "        return_lines.append('%s %i'%(key, value))\n",
    "    return_lines.sort()\n",
    "    return return_lines\n",
    "\n",
    "for x in count_votes(input_lines):\n",
    "    print(x)"
   ]
  },
  {
   "cell_type": "markdown",
   "metadata": {},
   "source": [
    "**Task 3. (2 points)** <br>\n",
    "**<center> Matching pairs</center>**"
   ]
  },
  {
   "cell_type": "markdown",
   "metadata": {},
   "source": [
    "You are given a list of numbers (in the input: numbers in one line separated by one whitespace). Write a function that returns the number of pairs of elements which are equal to each other. It is considered that ```any``` two elements equal to each other form one pair, which must be counted. Indices of elements matters. In Test 2, in terms of indices, 10 pairs are the following: [0, 1], [0, 2], [0, 3], [0, 4], [1, 2], [1, 3], [1, 4], [2, 3], [2, 4], [3, 4]. That's why the answer is 10.  <br>\n",
    "**Examples:** <br>\n",
    "**Test 1** <br>\n",
    "```input:``` ```1 2 3 2 3``` <br>\n",
    "array = [1, 2, 3, 2, 3] <br>\n",
    "```output:``` 2 <br>\n",
    "**Test 2** <br>\n",
    "```input:``` ```1 1 1 1 1``` <br>\n",
    "array = [1, 1, 1, 1, 1] <br>\n",
    "```output:``` 10 <br>"
   ]
  },
  {
   "cell_type": "code",
   "execution_count": 12,
   "metadata": {},
   "outputs": [
    {
     "name": "stdout",
     "output_type": "stream",
     "text": [
      "1 1 1 1 1\n",
      "10\n"
     ]
    }
   ],
   "source": [
    "array = [int(x) for x in input().split()]\n",
    "\n",
    "def count_pairs(array):\n",
    "    k = 0\n",
    "    for i, x in enumerate(array):\n",
    "        for y in array[i+1:]:\n",
    "            if x == y:\n",
    "                k+=1\n",
    "    return k\n",
    "\n",
    "print(count_pairs(array))"
   ]
  },
  {
   "cell_type": "markdown",
   "metadata": {},
   "source": [
    "**Task 4. (2 points)** <br>\n",
    "**<center> The most frequent countries</center>**"
   ]
  },
  {
   "cell_type": "markdown",
   "metadata": {},
   "source": [
    "Your are given a list of countries (in the input: countries in one line separated by one whitespace). It is required to write a function that determines which country occurs most often in this list and returns it without ```changing``` an input list or using ```additional lists```. If there are several such countries, return a list with all of them. <br>\n",
    "**Examples:** <br>\n",
    "**Test 1** <br>\n",
    "```input:``` ```India Austria India Italy Austria India``` <br>\n",
    "countries = ['India', 'Austria', 'India', 'Italy', 'Austria', 'India'] <br>\n",
    "```output:``` 'India' <br>\n",
    "**Test 2** <br>\n",
    "```input:``` ```Germany Poland Russia Germany France Russia``` <br>\n",
    "countries = ['Germany', 'Poland', 'Russia', 'Germany', 'France', 'Russia'] <br>\n",
    "```output:``` ['Germany', 'Russia']"
   ]
  },
  {
   "cell_type": "code",
   "execution_count": 1,
   "metadata": {},
   "outputs": [
    {
     "ename": "KeyboardInterrupt",
     "evalue": "Interrupted by user",
     "output_type": "error",
     "traceback": [
      "\u001b[0;31m---------------------------------------------------------------------------\u001b[0m",
      "\u001b[0;31mKeyboardInterrupt\u001b[0m                         Traceback (most recent call last)",
      "\u001b[0;32m<ipython-input-1-72c70e589c02>\u001b[0m in \u001b[0;36m<module>\u001b[0;34m\u001b[0m\n\u001b[0;32m----> 1\u001b[0;31m \u001b[0mcountries\u001b[0m \u001b[0;34m=\u001b[0m \u001b[0;34m[\u001b[0m\u001b[0mx\u001b[0m \u001b[0;32mfor\u001b[0m \u001b[0mx\u001b[0m \u001b[0;32min\u001b[0m \u001b[0minput\u001b[0m\u001b[0;34m(\u001b[0m\u001b[0;34m)\u001b[0m\u001b[0;34m.\u001b[0m\u001b[0msplit\u001b[0m\u001b[0;34m(\u001b[0m\u001b[0;34m)\u001b[0m\u001b[0;34m]\u001b[0m\u001b[0;34m\u001b[0m\u001b[0;34m\u001b[0m\u001b[0m\n\u001b[0m\u001b[1;32m      2\u001b[0m \u001b[0;34m\u001b[0m\u001b[0m\n\u001b[1;32m      3\u001b[0m \u001b[0;32mdef\u001b[0m \u001b[0mmost_frequent_countries\u001b[0m\u001b[0;34m(\u001b[0m\u001b[0mcountries\u001b[0m\u001b[0;34m)\u001b[0m\u001b[0;34m:\u001b[0m\u001b[0;34m\u001b[0m\u001b[0;34m\u001b[0m\u001b[0m\n\u001b[1;32m      4\u001b[0m     \u001b[0mk\u001b[0m \u001b[0;34m=\u001b[0m \u001b[0;36m0\u001b[0m\u001b[0;34m\u001b[0m\u001b[0;34m\u001b[0m\u001b[0m\n\u001b[1;32m      5\u001b[0m     \u001b[0;32mfor\u001b[0m \u001b[0mi\u001b[0m \u001b[0;32min\u001b[0m \u001b[0mset\u001b[0m\u001b[0;34m(\u001b[0m\u001b[0mcountries\u001b[0m\u001b[0;34m)\u001b[0m\u001b[0;34m:\u001b[0m\u001b[0;34m\u001b[0m\u001b[0;34m\u001b[0m\u001b[0m\n",
      "\u001b[0;32m/opt/anaconda3/lib/python3.8/site-packages/ipykernel/kernelbase.py\u001b[0m in \u001b[0;36mraw_input\u001b[0;34m(self, prompt)\u001b[0m\n\u001b[1;32m    858\u001b[0m                 \u001b[0;34m\"raw_input was called, but this frontend does not support input requests.\"\u001b[0m\u001b[0;34m\u001b[0m\u001b[0;34m\u001b[0m\u001b[0m\n\u001b[1;32m    859\u001b[0m             )\n\u001b[0;32m--> 860\u001b[0;31m         return self._input_request(str(prompt),\n\u001b[0m\u001b[1;32m    861\u001b[0m             \u001b[0mself\u001b[0m\u001b[0;34m.\u001b[0m\u001b[0m_parent_ident\u001b[0m\u001b[0;34m,\u001b[0m\u001b[0;34m\u001b[0m\u001b[0;34m\u001b[0m\u001b[0m\n\u001b[1;32m    862\u001b[0m             \u001b[0mself\u001b[0m\u001b[0;34m.\u001b[0m\u001b[0m_parent_header\u001b[0m\u001b[0;34m,\u001b[0m\u001b[0;34m\u001b[0m\u001b[0;34m\u001b[0m\u001b[0m\n",
      "\u001b[0;32m/opt/anaconda3/lib/python3.8/site-packages/ipykernel/kernelbase.py\u001b[0m in \u001b[0;36m_input_request\u001b[0;34m(self, prompt, ident, parent, password)\u001b[0m\n\u001b[1;32m    902\u001b[0m             \u001b[0;32mexcept\u001b[0m \u001b[0mKeyboardInterrupt\u001b[0m\u001b[0;34m:\u001b[0m\u001b[0;34m\u001b[0m\u001b[0;34m\u001b[0m\u001b[0m\n\u001b[1;32m    903\u001b[0m                 \u001b[0;31m# re-raise KeyboardInterrupt, to truncate traceback\u001b[0m\u001b[0;34m\u001b[0m\u001b[0;34m\u001b[0m\u001b[0;34m\u001b[0m\u001b[0m\n\u001b[0;32m--> 904\u001b[0;31m                 \u001b[0;32mraise\u001b[0m \u001b[0mKeyboardInterrupt\u001b[0m\u001b[0;34m(\u001b[0m\u001b[0;34m\"Interrupted by user\"\u001b[0m\u001b[0;34m)\u001b[0m \u001b[0;32mfrom\u001b[0m \u001b[0;32mNone\u001b[0m\u001b[0;34m\u001b[0m\u001b[0;34m\u001b[0m\u001b[0m\n\u001b[0m\u001b[1;32m    905\u001b[0m             \u001b[0;32mexcept\u001b[0m \u001b[0mException\u001b[0m \u001b[0;32mas\u001b[0m \u001b[0me\u001b[0m\u001b[0;34m:\u001b[0m\u001b[0;34m\u001b[0m\u001b[0;34m\u001b[0m\u001b[0m\n\u001b[1;32m    906\u001b[0m                 \u001b[0mself\u001b[0m\u001b[0;34m.\u001b[0m\u001b[0mlog\u001b[0m\u001b[0;34m.\u001b[0m\u001b[0mwarning\u001b[0m\u001b[0;34m(\u001b[0m\u001b[0;34m\"Invalid Message:\"\u001b[0m\u001b[0;34m,\u001b[0m \u001b[0mexc_info\u001b[0m\u001b[0;34m=\u001b[0m\u001b[0;32mTrue\u001b[0m\u001b[0;34m)\u001b[0m\u001b[0;34m\u001b[0m\u001b[0;34m\u001b[0m\u001b[0m\n",
      "\u001b[0;31mKeyboardInterrupt\u001b[0m: Interrupted by user"
     ]
    }
   ],
   "source": [
    "countries = [x for x in input().split()]\n",
    "\n",
    "def most_frequent_countries(countries):\n",
    "    k = 0\n",
    "    for i in set(countries): \n",
    "        k_i = countries.count(i) \n",
    "        if k_i > k: \n",
    "            k = k_i \n",
    "            answer = i\n",
    "        elif k_i == k:\n",
    "            if isinstance(answer, str):\n",
    "                answer = [answer, i]\n",
    "            else:\n",
    "                answer.append(i)\n",
    "    return answer \n",
    "    \n",
    "print(most_frequent_countries(countries))"
   ]
  },
  {
   "cell_type": "markdown",
   "metadata": {},
   "source": [
    "**Task 5. (2 points)** <br>\n",
    "**<center> The Queen's Gambit </center>**"
   ]
  },
  {
   "cell_type": "markdown",
   "metadata": {},
   "source": [
    "It is known that 8 queens can be placed on an 8 × 8 chessboard so that they do not beat each other. You are given the arrangement of 8 queens on the board, determine if there is a pair of them hitting each other. <br>\n",
    "**Input format:** <br>\n",
    "The program receives eight pairs of numbers as an input, each number from 1 to 8 is the coordinates of 8 queens.<br>\n",
    "**Output format:** <br>\n",
    "If the queens do not beat each other, print the word ```NO```, otherwise print ```YES```. <br>\n",
    "**Examples:** <br>\n",
    "**Test 1** <br>\n",
    "```input:``` <br>\n",
    "1 7 <br>\n",
    "2 4 <br>\n",
    "3 2 <br>\n",
    "4 8 <br>\n",
    "5 6 <br>\n",
    "6 1 <br>\n",
    "7 3 <br>\n",
    "8 5 <br>\n",
    "```output:``` <br>\n",
    "NO <br>\n",
    "**Test 2** <br>\n",
    "```input:``` <br>\n",
    "1 8 <br>\n",
    "2 7 <br>\n",
    "3 6 <br>\n",
    "4 5 <br>\n",
    "5 4 <br>\n",
    "6 3 <br>\n",
    "7 2 <br>\n",
    "8 1 <br>\n",
    "```output:``` <br>\n",
    "YES"
   ]
  },
  {
   "cell_type": "code",
   "execution_count": 20,
   "metadata": {},
   "outputs": [
    {
     "name": "stdout",
     "output_type": "stream",
     "text": [
      "1 7\n",
      "2 4\n",
      "3 2\n",
      "4 8\n",
      "5 6\n",
      "6 1\n",
      "7 3\n",
      "8 5\n",
      "NO\n"
     ]
    }
   ],
   "source": [
    "# input of any format\n",
    "input_lines = []\n",
    "for i in range(8):\n",
    "    input_lines.append([int(x) for x in input().split()])\n",
    "    \n",
    "def is_beaten_by_queen(input_lines):\n",
    "    for i, x in enumerate(input_lines):\n",
    "        for y in input_lines[i+1:]:\n",
    "            if x[0] == y[0]:\n",
    "                return 'YES'\n",
    "            if x[1] == y[1]:\n",
    "                return 'YES'\n",
    "            if abs(x[0]-y[0]) == abs(x[1]-y[1]):\n",
    "                return 'YES'\n",
    "    return 'NO'\n",
    "            \n",
    "print(is_beaten_by_queen(input_lines))"
   ]
  },
  {
   "cell_type": "markdown",
   "metadata": {},
   "source": [
    "**Bonus task! 2 additional points** <br>\n",
    "**<center> Family tree</center>**"
   ]
  },
  {
   "cell_type": "markdown",
   "metadata": {},
   "source": [
    "In the family tree, each person, except for the ancestor, has exactly one parent. Each element of the tree is associated with a ```non-negative integer``` called the height. The ancestor has a height of 0, any other element has a height 1 ```more``` than its parent. You are given a family tree, determine the height of all its elements. <br>\n",
    "**Input format:** <br>\n",
    "The program receives as input the number of elements in the family tree N. Then N-1 lines follow, specifying the parent for each element of the tree, except for the ancestor. Each line has the form descendant_name parent_name (two words separated by a space) <br>\n",
    "**Output format:** <br>\n",
    "The program should list all the elements in the tree in a lexicographic order. After printing the name of each element, it should print its height. <br>\n",
    "**Note:** <br>\n",
    "This problem has a solution of complexity O(n), but you only need to write a solution of complexity O(n²) (not counting the complexity of accessing the elements of the dictionary). The example below corresponds to the given tree of the Romanov family. <br>\n",
    "**Example:** <br>\n",
    "```input:``` <br>\n",
    "9 <br>\n",
    "Alexei Peter_I <br>\n",
    "Anna Peter_I <br>\n",
    "Elizabeth Peter_I <br>\n",
    "Peter_II Alexei <br>\n",
    "Peter_III Anna <br>\n",
    "Paul_I Peter_III <br>\n",
    "Alexander_I Paul_I <br>\n",
    "Nicholaus_I Paul_I <br>\n",
    "```output:``` <br>\n",
    "Alexander_I 4 <br>\n",
    "Alexei 1 <br>\n",
    "Anna 1 <br>\n",
    "Elizabeth 1 <br>\n",
    "Nicholaus_I 4 <br>\n",
    "Paul_I 3 <br>\n",
    "Peter_I 0 <br>\n",
    "Peter_II 2 <br>\n",
    "Peter_III 2 <br>"
   ]
  },
  {
   "cell_type": "code",
   "execution_count": 24,
   "metadata": {},
   "outputs": [
    {
     "name": "stdout",
     "output_type": "stream",
     "text": [
      "9\n",
      "Alexei Peter_I\n",
      "Anna Peter_I\n",
      "Elizabeth Peter_I\n",
      "Peter_II Alexei\n",
      "Peter_III Anna \n",
      "Paul_I Peter_III \n",
      "Alexander_I Paul_I \n",
      "Nicholaus_I Paul_I \n",
      "Alexander_I 4\n",
      "Alexei 1\n",
      "Anna 1\n",
      "Elizabeth 1\n",
      "Nicholaus_I 4\n",
      "Paul_I 3\n",
      "Peter_I 0\n",
      "Peter_II 2\n",
      "Peter_III 2\n"
     ]
    }
   ],
   "source": [
    "N = int(input())\n",
    "input_lines = []\n",
    "for i in range(N-1):\n",
    "    input_lines.append([x for x in input().split()])\n",
    "    \n",
    "def find_children(input_lines, parent, height, res):\n",
    "    children = []\n",
    "    for x in input_lines:\n",
    "        if x[1] == parent:\n",
    "            children.append(x[0])\n",
    "            res.append('%s %i'%(x[0], height))\n",
    "            find_children(input_lines, x[0], height+1, res)\n",
    "\n",
    "def build_family_tree(input_lines):\n",
    "    parent = list(set([x[1] for x in input_lines])-set([x[0] for x in input_lines]))[0]\n",
    "    height = 0\n",
    "    res = ['%s %i'%(parent, height)]\n",
    "    find_children(input_lines, parent, height+1, res)\n",
    "    res.sort()\n",
    "    return res\n",
    "        \n",
    "for i in build_family_tree(input_lines):\n",
    "    print(i)"
   ]
  },
  {
   "cell_type": "code",
   "execution_count": null,
   "metadata": {},
   "outputs": [],
   "source": []
  }
 ],
 "metadata": {
  "kernelspec": {
   "display_name": "Python 3",
   "language": "python",
   "name": "python3"
  },
  "language_info": {
   "codemirror_mode": {
    "name": "ipython",
    "version": 3
   },
   "file_extension": ".py",
   "mimetype": "text/x-python",
   "name": "python",
   "nbconvert_exporter": "python",
   "pygments_lexer": "ipython3",
   "version": "3.8.5"
  }
 },
 "nbformat": 4,
 "nbformat_minor": 4
}
